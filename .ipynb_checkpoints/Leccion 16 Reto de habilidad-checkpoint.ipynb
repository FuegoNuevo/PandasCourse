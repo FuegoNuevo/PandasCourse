{
 "cells": [
  {
   "cell_type": "markdown",
   "metadata": {},
   "source": [
    "## Leccion 16 Reto de habilidad."
   ]
  },
  {
   "cell_type": "markdown",
   "metadata": {},
   "source": [
    "1. Crea una lista de longitud 4 que contenga algunos de tus actores favoritos. Debe ser una lista de cadenas. Asignala a una variable llamada actor_names"
   ]
  },
  {
   "cell_type": "code",
   "execution_count": 4,
   "metadata": {},
   "outputs": [],
   "source": [
    "import pandas as pd"
   ]
  },
  {
   "cell_type": "code",
   "execution_count": 5,
   "metadata": {},
   "outputs": [],
   "source": [
    "actor_names = ['Will Smith', 'Margot Robbie', 'Natalie Dormer', 'Bruce Willis']"
   ]
  },
  {
   "cell_type": "markdown",
   "metadata": {},
   "source": [
    "2. Después, crea otra lista de python de la misma longitud que contenga tus aproximaciones de la edad de cada actor. Puedes usar enteros o flotantes. Llama a esta lista actor_ages."
   ]
  },
  {
   "cell_type": "code",
   "execution_count": 6,
   "metadata": {},
   "outputs": [],
   "source": [
    "actor_ages = [45, 30, 28, 55]"
   ]
  },
  {
   "cell_type": "markdown",
   "metadata": {},
   "source": [
    "3. Crea una serie que almacene las edades de los actores y etiqueta las edades usando los nombres de los actores. Es decir, usa el nombre del actor como indice y la edad del actor como valor. Da a esta serie el nombre de actors."
   ]
  },
  {
   "cell_type": "code",
   "execution_count": 28,
   "metadata": {},
   "outputs": [
    {
     "data": {
      "text/plain": [
       "Names\n",
       "Will Smith        45\n",
       "Margot Robbie     30\n",
       "Natalie Dormer    28\n",
       "Bruce Willis      55\n",
       "Name: actors, dtype: int64"
      ]
     },
     "execution_count": 28,
     "metadata": {},
     "output_type": "execute_result"
    }
   ],
   "source": [
    "actors = pd.Series(data = actor_ages, index = actor_names)\n",
    "actors.name = 'actors'\n",
    "actors.index.name = 'Names'\n",
    "actors"
   ]
  },
  {
   "cell_type": "markdown",
   "metadata": {},
   "source": [
    "4. Repite el paso 3 pero esta vez crea la serie desde un diccionario de python. Como reto adicional, trata de no escribir el diccionario manualmente sino crealo dinamicamente usando las dos listas definidas en los pasos 1 y 2."
   ]
  },
  {
   "cell_type": "code",
   "execution_count": null,
   "metadata": {},
   "outputs": [],
   "source": [
    "# Existen diversas formas de crear un diccionario desde dos listas, a continuación se detallan dos de ellas."
   ]
  },
  {
   "cell_type": "code",
   "execution_count": 14,
   "metadata": {},
   "outputs": [
    {
     "data": {
      "text/plain": [
       "{'Will Smith': 45,\n",
       " 'Margot Robbie': 30,\n",
       " 'Natalie Dormer': 28,\n",
       " 'Bruce Willis': 55}"
      ]
     },
     "execution_count": 14,
     "metadata": {},
     "output_type": "execute_result"
    }
   ],
   "source": [
    "# Usando la función dict()\n",
    "actors_dict = dict(zip(actor_names, actor_ages))\n",
    "actors_dict"
   ]
  },
  {
   "cell_type": "code",
   "execution_count": 17,
   "metadata": {},
   "outputs": [
    {
     "data": {
      "text/plain": [
       "Will Smith        45\n",
       "Margot Robbie     30\n",
       "Natalie Dormer    28\n",
       "Bruce Willis      55\n",
       "dtype: int64"
      ]
     },
     "execution_count": 17,
     "metadata": {},
     "output_type": "execute_result"
    }
   ],
   "source": [
    "actors2 = pd.Series(actors_dict)\n",
    "actors2"
   ]
  },
  {
   "cell_type": "code",
   "execution_count": 27,
   "metadata": {},
   "outputs": [
    {
     "data": {
      "text/plain": [
       "{'Will Smith': 45,\n",
       " 'Margot Robbie': 30,\n",
       " 'Natalie Dormer': 28,\n",
       " 'Bruce Willis': 55}"
      ]
     },
     "execution_count": 27,
     "metadata": {},
     "output_type": "execute_result"
    }
   ],
   "source": [
    "# Iterando sobre ambas listas.\n",
    "\n",
    "actors_dict2 = dict()\n",
    "\n",
    "for i, j in zip(actor_names, actor_ages):\n",
    "    actors_dict2[i] = j\n",
    "    \n",
    "actors_dict2"
   ]
  },
  {
   "cell_type": "code",
   "execution_count": null,
   "metadata": {},
   "outputs": [],
   "source": []
  }
 ],
 "metadata": {
  "kernelspec": {
   "display_name": "Python 3",
   "language": "python",
   "name": "python3"
  },
  "language_info": {
   "codemirror_mode": {
    "name": "ipython",
    "version": 3
   },
   "file_extension": ".py",
   "mimetype": "text/x-python",
   "name": "python",
   "nbconvert_exporter": "python",
   "pygments_lexer": "ipython3",
   "version": "3.8.3"
  }
 },
 "nbformat": 4,
 "nbformat_minor": 4
}
